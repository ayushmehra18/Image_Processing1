{
 "cells": [
  {
   "cell_type": "code",
   "execution_count": 1,
   "id": "pending-smell",
   "metadata": {},
   "outputs": [],
   "source": [
    "import numpy as np"
   ]
  },
  {
   "cell_type": "code",
   "execution_count": 2,
   "id": "passive-forge",
   "metadata": {},
   "outputs": [],
   "source": [
    "from PIL import Image"
   ]
  },
  {
   "cell_type": "code",
   "execution_count": 3,
   "id": "determined-intake",
   "metadata": {},
   "outputs": [],
   "source": [
    "image_source=Image.open('cells_scale.png')        # To open the image"
   ]
  },
  {
   "cell_type": "code",
   "execution_count": 4,
   "id": "previous-carnival",
   "metadata": {},
   "outputs": [
    {
     "data": {
      "text/plain": [
       "'L'"
      ]
     },
     "execution_count": 4,
     "metadata": {},
     "output_type": "execute_result"
    }
   ],
   "source": [
    "image_source.mode"
   ]
  },
  {
   "cell_type": "code",
   "execution_count": 5,
   "id": "recent-warren",
   "metadata": {},
   "outputs": [],
   "source": [
    "image_source.show()                               # To see the image in the image viewer"
   ]
  },
  {
   "cell_type": "code",
   "execution_count": 6,
   "id": "gorgeous-crest",
   "metadata": {},
   "outputs": [],
   "source": [
    "data_source=np.array(image_source)                # To convert the source image to an array matrix"
   ]
  },
  {
   "cell_type": "code",
   "execution_count": 7,
   "id": "tracked-exhaust",
   "metadata": {},
   "outputs": [
    {
     "data": {
      "text/plain": [
       "array([[24, 27, 32, ...,  9,  4,  3],\n",
       "       [27, 16, 16, ..., 15, 10,  6],\n",
       "       [29, 27, 23, ...,  4,  2,  2],\n",
       "       ...,\n",
       "       [11, 17, 13, ...,  8,  0, 12],\n",
       "       [ 6, 17, 14, ..., 20, 10, 23],\n",
       "       [17, 19,  9, ..., 20, 11, 18]], dtype=uint8)"
      ]
     },
     "execution_count": 7,
     "metadata": {},
     "output_type": "execute_result"
    }
   ],
   "source": [
    "data_source"
   ]
  },
  {
   "cell_type": "code",
   "execution_count": 8,
   "id": "organized-johns",
   "metadata": {},
   "outputs": [
    {
     "data": {
      "text/plain": [
       "(240, 315)"
      ]
     },
     "execution_count": 8,
     "metadata": {},
     "output_type": "execute_result"
    }
   ],
   "source": [
    "data_source.shape                              # To find the size of the image matrix"
   ]
  },
  {
   "cell_type": "code",
   "execution_count": 9,
   "id": "coordinate-trailer",
   "metadata": {},
   "outputs": [],
   "source": [
    "A,B=data_source.shape"
   ]
  },
  {
   "cell_type": "code",
   "execution_count": 10,
   "id": "shaped-august",
   "metadata": {},
   "outputs": [
    {
     "data": {
      "text/plain": [
       "(240, 315)"
      ]
     },
     "execution_count": 10,
     "metadata": {},
     "output_type": "execute_result"
    }
   ],
   "source": [
    "A,B"
   ]
  },
  {
   "cell_type": "code",
   "execution_count": 11,
   "id": "sufficient-works",
   "metadata": {},
   "outputs": [
    {
     "data": {
      "text/plain": [
       "17"
      ]
     },
     "execution_count": 11,
     "metadata": {},
     "output_type": "execute_result"
    }
   ],
   "source": [
    "data_source[239,0]                             # Just to find the pixel intensity at point (239,0)"
   ]
  },
  {
   "cell_type": "code",
   "execution_count": 12,
   "id": "false-subdivision",
   "metadata": {},
   "outputs": [],
   "source": [
    "data_target=np.zeros((A,B))"
   ]
  },
  {
   "cell_type": "code",
   "execution_count": 13,
   "id": "established-gathering",
   "metadata": {},
   "outputs": [],
   "source": [
    "import math"
   ]
  },
  {
   "cell_type": "code",
   "execution_count": 14,
   "id": "efficient-bridal",
   "metadata": {},
   "outputs": [],
   "source": [
    "# Doing scaling, T-S mapping, bilinear interpolation\n",
    "for xt in range(A):\n",
    "    for yt in range(B):\n",
    "        xs = xt/0.8      #scaling by factor 0.8\n",
    "        ys = yt/0.8      #scaling by factor 0.8\n",
    "        \n",
    "        # doing bilinear interpolation\n",
    "        i = math.floor(xs)\n",
    "        j = math.floor(ys)\n",
    "        a = xs-i\n",
    "        b = ys-j\n",
    "        intensity_target = 0\n",
    "        if 0 <= xs < A and 0 <= ys < B:\n",
    "            intensity_target = (1-a)*(1-b)*data_source[i,j]+(1-a)*(b)*data_source[i,j+1]+(a)*(1-b)*data_source[i+1,j]+(a)*(b)*data_source[i+1,j+1]\n",
    "            data_target[xt,yt] = intensity_target\n",
    "        else:\n",
    "            data_target[xt,yt] = 0"
   ]
  },
  {
   "cell_type": "code",
   "execution_count": 15,
   "id": "surface-holly",
   "metadata": {},
   "outputs": [
    {
     "data": {
      "text/plain": [
       "array([[24.  , 28.25, 27.  , ...,  0.  ,  0.  ,  0.  ],\n",
       "       [27.5 , 18.5 , 21.  , ...,  0.  ,  0.  ,  0.  ],\n",
       "       [26.  , 22.5 , 16.75, ...,  0.  ,  0.  ,  0.  ],\n",
       "       ...,\n",
       "       [ 0.  ,  0.  ,  0.  , ...,  0.  ,  0.  ,  0.  ],\n",
       "       [ 0.  ,  0.  ,  0.  , ...,  0.  ,  0.  ,  0.  ],\n",
       "       [ 0.  ,  0.  ,  0.  , ...,  0.  ,  0.  ,  0.  ]])"
      ]
     },
     "execution_count": 15,
     "metadata": {},
     "output_type": "execute_result"
    }
   ],
   "source": [
    "data_target"
   ]
  },
  {
   "cell_type": "code",
   "execution_count": 16,
   "id": "sought-syndication",
   "metadata": {},
   "outputs": [],
   "source": [
    "new_image=Image.fromarray(data_target)               # To convert an array into image"
   ]
  },
  {
   "cell_type": "code",
   "execution_count": 17,
   "id": "higher-blank",
   "metadata": {},
   "outputs": [],
   "source": [
    "new_image.show()                                    # To view an image in the image viewer"
   ]
  }
 ],
 "metadata": {
  "kernelspec": {
   "display_name": "Python 3",
   "language": "python",
   "name": "python3"
  },
  "language_info": {
   "codemirror_mode": {
    "name": "ipython",
    "version": 3
   },
   "file_extension": ".py",
   "mimetype": "text/x-python",
   "name": "python",
   "nbconvert_exporter": "python",
   "pygments_lexer": "ipython3",
   "version": "3.9.1"
  }
 },
 "nbformat": 4,
 "nbformat_minor": 5
}
