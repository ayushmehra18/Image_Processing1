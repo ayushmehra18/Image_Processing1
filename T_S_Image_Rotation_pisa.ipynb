{
 "cells": [
  {
   "cell_type": "code",
   "execution_count": 1,
   "id": "pending-smell",
   "metadata": {},
   "outputs": [],
   "source": [
    "import numpy as np"
   ]
  },
  {
   "cell_type": "code",
   "execution_count": 2,
   "id": "passive-forge",
   "metadata": {},
   "outputs": [],
   "source": [
    "from PIL import Image"
   ]
  },
  {
   "cell_type": "code",
   "execution_count": 3,
   "id": "determined-intake",
   "metadata": {},
   "outputs": [],
   "source": [
    "image_source=Image.open('pisa_rotate.png')      # To open the image"
   ]
  },
  {
   "cell_type": "code",
   "execution_count": 4,
   "id": "previous-carnival",
   "metadata": {},
   "outputs": [
    {
     "data": {
      "text/plain": [
       "'L'"
      ]
     },
     "execution_count": 4,
     "metadata": {},
     "output_type": "execute_result"
    }
   ],
   "source": [
    "image_source.mode"
   ]
  },
  {
   "cell_type": "code",
   "execution_count": 5,
   "id": "recent-warren",
   "metadata": {},
   "outputs": [],
   "source": [
    "image_source.show()                             # To see the image in the image viewer"
   ]
  },
  {
   "cell_type": "code",
   "execution_count": 6,
   "id": "gorgeous-crest",
   "metadata": {},
   "outputs": [],
   "source": [
    "data_source=np.array(image_source)              # To convert the source image to an array matrix"
   ]
  },
  {
   "cell_type": "code",
   "execution_count": 7,
   "id": "tracked-exhaust",
   "metadata": {},
   "outputs": [
    {
     "data": {
      "text/plain": [
       "array([[239, 239, 239, ..., 255, 255, 255],\n",
       "       [238, 238, 238, ..., 255, 255, 255],\n",
       "       [237, 238, 236, ..., 255, 255, 255],\n",
       "       ...,\n",
       "       [103, 106, 106, ..., 111, 114, 112],\n",
       "       [114, 114, 117, ..., 109, 111, 110],\n",
       "       [111, 106, 107, ..., 106, 109, 107]], dtype=uint8)"
      ]
     },
     "execution_count": 7,
     "metadata": {},
     "output_type": "execute_result"
    }
   ],
   "source": [
    "data_source"
   ]
  },
  {
   "cell_type": "code",
   "execution_count": 8,
   "id": "organized-johns",
   "metadata": {},
   "outputs": [
    {
     "data": {
      "text/plain": [
       "(482, 207)"
      ]
     },
     "execution_count": 8,
     "metadata": {},
     "output_type": "execute_result"
    }
   ],
   "source": [
    "data_source.shape                              # To find the size of the image matrix"
   ]
  },
  {
   "cell_type": "code",
   "execution_count": 9,
   "id": "coordinate-trailer",
   "metadata": {},
   "outputs": [],
   "source": [
    "A,B=data_source.shape"
   ]
  },
  {
   "cell_type": "code",
   "execution_count": 10,
   "id": "shaped-august",
   "metadata": {},
   "outputs": [
    {
     "data": {
      "text/plain": [
       "(482, 207)"
      ]
     },
     "execution_count": 10,
     "metadata": {},
     "output_type": "execute_result"
    }
   ],
   "source": [
    "A,B"
   ]
  },
  {
   "cell_type": "code",
   "execution_count": 11,
   "id": "sufficient-works",
   "metadata": {},
   "outputs": [
    {
     "data": {
      "text/plain": [
       "111"
      ]
     },
     "execution_count": 11,
     "metadata": {},
     "output_type": "execute_result"
    }
   ],
   "source": [
    "data_source[481,0]                             # Just to find the pixel intensity at point (481,0)"
   ]
  },
  {
   "cell_type": "code",
   "execution_count": 12,
   "id": "false-subdivision",
   "metadata": {},
   "outputs": [],
   "source": [
    "data_target=np.zeros((A,B))                    # zero matrix of order A*B"
   ]
  },
  {
   "cell_type": "code",
   "execution_count": 13,
   "id": "established-gathering",
   "metadata": {},
   "outputs": [],
   "source": [
    "import math"
   ]
  },
  {
   "cell_type": "code",
   "execution_count": 14,
   "id": "objective-essex",
   "metadata": {},
   "outputs": [],
   "source": [
    "theta = math.pi/(180/(-4))                     # theta value is 4 degree"
   ]
  },
  {
   "cell_type": "code",
   "execution_count": 15,
   "id": "bronze-growth",
   "metadata": {},
   "outputs": [],
   "source": [
    "cosine=math.cos(theta)                         # cos of 4 degree"
   ]
  },
  {
   "cell_type": "code",
   "execution_count": 16,
   "id": "finnish-majority",
   "metadata": {},
   "outputs": [],
   "source": [
    "sine=math.sin(theta)                           # sine of 4 degree"
   ]
  },
  {
   "cell_type": "code",
   "execution_count": 17,
   "id": "efficient-bridal",
   "metadata": {},
   "outputs": [],
   "source": [
    "#Doing rotation, T-S mapping, bilinear interpolation\n",
    "for xt in range(A):\n",
    "    for yt in range(B):\n",
    "        xs = (xt)*cosine - (yt)*sine   # doing rotation\n",
    "        ys = (xt)*sine + (yt)*cosine   # doing rotation\n",
    "        \n",
    "        #doing bilinear interpolation\n",
    "        i = math.floor(xs)\n",
    "        j = math.floor(ys)\n",
    "        a = xs-i\n",
    "        b = ys-j\n",
    "        intensity_target = 0\n",
    "        if 0 <= xs < A-1 and 0 <= ys < B-1:\n",
    "            intensity_target = (1-a)*(1-b)*data_source[i,j]+(1-a)*(b)*data_source[i,j+1]+(a)*(1-b)*data_source[i+1,j]+(a)*(b)*data_source[i+1,j+1]\n",
    "            data_target[xt,yt] = intensity_target\n",
    "        else:\n",
    "            data_target[xt,yt] = 0"
   ]
  },
  {
   "cell_type": "code",
   "execution_count": 18,
   "id": "surface-holly",
   "metadata": {},
   "outputs": [
    {
     "data": {
      "text/plain": [
       "array([[239.        , 238.93024353, 238.86048705, ..., 249.99527994,\n",
       "        250.00088233, 250.26166839],\n",
       "       [  0.        , 237.99513997, 237.74630567, ..., 249.54423061,\n",
       "        249.40471766, 248.56573602],\n",
       "       [  0.        , 237.72828195, 236.48029128, ..., 248.08196264,\n",
       "        248.29520522, 247.87537531],\n",
       "       ...,\n",
       "       [  0.        ,   0.        ,   0.        , ...,   0.        ,\n",
       "          0.        ,   0.        ],\n",
       "       [  0.        ,   0.        ,   0.        , ...,   0.        ,\n",
       "          0.        ,   0.        ],\n",
       "       [  0.        ,   0.        ,   0.        , ...,   0.        ,\n",
       "          0.        ,   0.        ]])"
      ]
     },
     "execution_count": 18,
     "metadata": {},
     "output_type": "execute_result"
    }
   ],
   "source": [
    "data_target"
   ]
  },
  {
   "cell_type": "code",
   "execution_count": 19,
   "id": "sought-syndication",
   "metadata": {},
   "outputs": [],
   "source": [
    "new_image=Image.fromarray(data_target)           # To convert an array into image"
   ]
  },
  {
   "cell_type": "code",
   "execution_count": 20,
   "id": "higher-blank",
   "metadata": {},
   "outputs": [],
   "source": [
    "new_image.show()                                 # To view an image in the image viewer"
   ]
  }
 ],
 "metadata": {
  "kernelspec": {
   "display_name": "Python 3",
   "language": "python",
   "name": "python3"
  },
  "language_info": {
   "codemirror_mode": {
    "name": "ipython",
    "version": 3
   },
   "file_extension": ".py",
   "mimetype": "text/x-python",
   "name": "python",
   "nbconvert_exporter": "python",
   "pygments_lexer": "ipython3",
   "version": "3.9.1"
  }
 },
 "nbformat": 4,
 "nbformat_minor": 5
}
