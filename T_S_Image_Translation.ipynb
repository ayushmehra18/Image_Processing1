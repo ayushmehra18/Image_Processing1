{
 "cells": [
  {
   "cell_type": "code",
   "execution_count": 1,
   "id": "pending-smell",
   "metadata": {},
   "outputs": [],
   "source": [
    "import numpy as np"
   ]
  },
  {
   "cell_type": "code",
   "execution_count": 2,
   "id": "passive-forge",
   "metadata": {},
   "outputs": [],
   "source": [
    "from PIL import Image"
   ]
  },
  {
   "cell_type": "code",
   "execution_count": 3,
   "id": "determined-intake",
   "metadata": {},
   "outputs": [],
   "source": [
    "image_source=Image.open('lena_translate.png')      # To open the image"
   ]
  },
  {
   "cell_type": "code",
   "execution_count": 4,
   "id": "loose-finish",
   "metadata": {},
   "outputs": [
    {
     "data": {
      "text/plain": [
       "(256, 256)"
      ]
     },
     "execution_count": 4,
     "metadata": {},
     "output_type": "execute_result"
    }
   ],
   "source": [
    "image_source.size                                  # To find the size of the image matrix"
   ]
  },
  {
   "cell_type": "code",
   "execution_count": 5,
   "id": "stretch-check",
   "metadata": {},
   "outputs": [],
   "source": [
    "A,B=image_source.size"
   ]
  },
  {
   "cell_type": "code",
   "execution_count": 6,
   "id": "aboriginal-eugene",
   "metadata": {},
   "outputs": [
    {
     "data": {
      "text/plain": [
       "(256, 256)"
      ]
     },
     "execution_count": 6,
     "metadata": {},
     "output_type": "execute_result"
    }
   ],
   "source": [
    "A,B"
   ]
  },
  {
   "cell_type": "code",
   "execution_count": 7,
   "id": "previous-carnival",
   "metadata": {},
   "outputs": [
    {
     "data": {
      "text/plain": [
       "'L'"
      ]
     },
     "execution_count": 7,
     "metadata": {},
     "output_type": "execute_result"
    }
   ],
   "source": [
    "image_source.mode"
   ]
  },
  {
   "cell_type": "code",
   "execution_count": 8,
   "id": "recent-warren",
   "metadata": {},
   "outputs": [],
   "source": [
    "image_source.show()                               # To see the image in the image viewer"
   ]
  },
  {
   "cell_type": "code",
   "execution_count": 9,
   "id": "gorgeous-crest",
   "metadata": {},
   "outputs": [],
   "source": [
    "data_source=np.array(image_source)                # To convert the source image to an array matrix"
   ]
  },
  {
   "cell_type": "code",
   "execution_count": 10,
   "id": "tracked-exhaust",
   "metadata": {},
   "outputs": [
    {
     "data": {
      "text/plain": [
       "array([[162, 162, 160, ..., 169, 171, 142],\n",
       "       [162, 162, 160, ..., 169, 171, 142],\n",
       "       [163, 159, 160, ..., 158, 151, 116],\n",
       "       ...,\n",
       "       [ 51,  52,  54, ...,  81,  93,  92],\n",
       "       [ 45,  50,  51, ...,  93, 102,  98],\n",
       "       [ 44,  57,  51, ..., 101, 102, 107]], dtype=uint8)"
      ]
     },
     "execution_count": 10,
     "metadata": {},
     "output_type": "execute_result"
    }
   ],
   "source": [
    "data_source"
   ]
  },
  {
   "cell_type": "code",
   "execution_count": 11,
   "id": "mature-melissa",
   "metadata": {},
   "outputs": [],
   "source": [
    "tx,ty=3.75,4.3                                    # translation points"
   ]
  },
  {
   "cell_type": "code",
   "execution_count": 12,
   "id": "false-subdivision",
   "metadata": {},
   "outputs": [],
   "source": [
    "data_target=np.zeros((A,B))                       # zero matrix of order A*B"
   ]
  },
  {
   "cell_type": "code",
   "execution_count": 13,
   "id": "established-gathering",
   "metadata": {},
   "outputs": [],
   "source": [
    "import math"
   ]
  },
  {
   "cell_type": "code",
   "execution_count": 14,
   "id": "efficient-bridal",
   "metadata": {},
   "outputs": [],
   "source": [
    "# Doing translation, T-S mapping, bilinear interpolation\n",
    "for xt in range(A):\n",
    "    for yt in range(B):\n",
    "        xs = xt-tx         # doing translation\n",
    "        ys = yt-ty         # doing translation\n",
    "        \n",
    "        \n",
    "        # doing bilinear interpolation\n",
    "        i = math.floor(xs)\n",
    "        j = math.floor(ys)         \n",
    "        a = xs-i\n",
    "        b = ys-j\n",
    "        intensity_target = 0\n",
    "        if 0 <= xs <= A and 0 <= ys <= B:\n",
    "            intensity_target = (1-a)*(1-b)*data_source[i,j]+(1-a)*(b)*data_source[i,j+1]+(a)*(1-b)*data_source[i+1,j]+(a)*(b)*data_source[i+1,j+1]\n",
    "            data_target[xt,yt] = intensity_target\n",
    "        else:\n",
    "            data_target[xt,yt] = 0"
   ]
  },
  {
   "cell_type": "code",
   "execution_count": 15,
   "id": "surface-holly",
   "metadata": {},
   "outputs": [
    {
     "data": {
      "text/plain": [
       "array([[ 0.   ,  0.   ,  0.   , ...,  0.   ,  0.   ,  0.   ],\n",
       "       [ 0.   ,  0.   ,  0.   , ...,  0.   ,  0.   ,  0.   ],\n",
       "       [ 0.   ,  0.   ,  0.   , ...,  0.   ,  0.   ,  0.   ],\n",
       "       ...,\n",
       "       [ 0.   ,  0.   ,  0.   , ..., 58.375, 58.35 , 57.275],\n",
       "       [ 0.   ,  0.   ,  0.   , ..., 58.225, 58.175, 57.9  ],\n",
       "       [ 0.   ,  0.   ,  0.   , ..., 55.7  , 59.375, 57.7  ]])"
      ]
     },
     "execution_count": 15,
     "metadata": {},
     "output_type": "execute_result"
    }
   ],
   "source": [
    "data_target"
   ]
  },
  {
   "cell_type": "code",
   "execution_count": 16,
   "id": "sought-syndication",
   "metadata": {},
   "outputs": [],
   "source": [
    "new_image=Image.fromarray(data_target)         # To convert an array into image"
   ]
  },
  {
   "cell_type": "code",
   "execution_count": 17,
   "id": "higher-blank",
   "metadata": {},
   "outputs": [],
   "source": [
    "new_image.show()                               # To view an image in the image viewer"
   ]
  }
 ],
 "metadata": {
  "kernelspec": {
   "display_name": "Python 3",
   "language": "python",
   "name": "python3"
  },
  "language_info": {
   "codemirror_mode": {
    "name": "ipython",
    "version": 3
   },
   "file_extension": ".py",
   "mimetype": "text/x-python",
   "name": "python",
   "nbconvert_exporter": "python",
   "pygments_lexer": "ipython3",
   "version": "3.9.1"
  }
 },
 "nbformat": 4,
 "nbformat_minor": 5
}
